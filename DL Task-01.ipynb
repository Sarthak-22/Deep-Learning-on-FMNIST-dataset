{
 "cells": [
  {
   "cell_type": "code",
   "execution_count": 4,
   "metadata": {},
   "outputs": [],
   "source": [
    "import tensorflow as tf\n",
    "from tensorflow import keras\n",
    "from keras.models import Sequential\n",
    "from keras.layers import Dense, Dropout, Activation, Flatten\n",
    "from keras.utils import np_utils\n",
    "import matplotlib.pyplot as plt\n",
    "import numpy as np"
   ]
  },
  {
   "cell_type": "code",
   "execution_count": 5,
   "metadata": {},
   "outputs": [],
   "source": [
    "fashion_mnist = keras.datasets.fashion_mnist\n",
    "(x_train, y_train) , (x_test, y_test) = fashion_mnist.load_data()"
   ]
  },
  {
   "cell_type": "code",
   "execution_count": 6,
   "metadata": {},
   "outputs": [
    {
     "name": "stdout",
     "output_type": "stream",
     "text": [
      "The number of training examples: 60000\n",
      "The number of test examples: 10000\n",
      "x_train shape: (60000, 28, 28)\n",
      "y_train shape: (60000,)\n",
      "x_test shape:(10000, 28, 28)\n",
      "y_test shape:(10000,)\n"
     ]
    }
   ],
   "source": [
    "m_train = x_train.shape[0]\n",
    "m_test = x_test.shape[0]\n",
    "x_train_dim = x_train.shape\n",
    "y_train_dim = y_train.shape\n",
    "x_test_dim = x_test.shape\n",
    "y_test_dim = y_test.shape\n",
    "print(\"The number of training examples: \" + str(m_train))\n",
    "print(\"The number of test examples: \" + str(m_test))\n",
    "print(\"x_train shape: \" + str(x_train_dim))\n",
    "print(\"y_train shape: \" + str(y_train_dim))\n",
    "print(\"x_test shape:\" + str(x_test_dim))\n",
    "print(\"y_test shape:\" + str(y_test_dim))"
   ]
  },
  {
   "cell_type": "code",
   "execution_count": 11,
   "metadata": {},
   "outputs": [
    {
     "name": "stdout",
     "output_type": "stream",
     "text": [
      "(60000, 28, 28, 1)\n",
      "(10000, 28, 28, 1)\n"
     ]
    }
   ],
   "source": [
    "# Adding the number of channels as dimension\n",
    "x_train = x_train.reshape(x_train.shape[0], 28, 28, 1)\n",
    "x_test = x_test.reshape(x_test.shape[0], 28, 28, 1)\n",
    "print(x_train.shape)\n",
    "print(x_test.shape)"
   ]
  },
  {
   "cell_type": "code",
   "execution_count": 12,
   "metadata": {},
   "outputs": [
    {
     "name": "stdout",
     "output_type": "stream",
     "text": [
      "The y-label is: Shirt\n"
     ]
    },
    {
     "data": {
      "image/png": "[encoded data removed]",
      "text/plain": [
       "<Figure size 432x288 with 1 Axes>"
      ]
     },
     "metadata": {
      "needs_background": "light"
     },
     "output_type": "display_data"
    }
   ],
   "source": [
    "classes = {0:'T-Shirt/Top', 1:'Trouser', 2:'pullover', 3:'Dress', 4:'Coat', 5:'Sandal',6:'Shirt', 7:'Sneaker', 8:'Bag', 9:'Ankle Boot'}\n",
    "plt.figure()\n",
    "index = 6784\n",
    "plt.imshow(x_train[index,:,:,0])\n",
    "print(\"The y-label is: \" + str(classes[y_train[index]]))"
   ]
  },
  {
   "cell_type": "code",
   "execution_count": 13,
   "metadata": {},
   "outputs": [],
   "source": [
    "# Normalizing the input dataset\n",
    "x_train = x_train/255.0\n",
    "x_test = x_test/255.0"
   ]
  },
  {
   "cell_type": "code",
   "execution_count": 14,
   "metadata": {},
   "outputs": [
    {
     "name": "stdout",
     "output_type": "stream",
     "text": [
      "(60000, 10)\n",
      "(10000, 10)\n"
     ]
    }
   ],
   "source": [
    "# Converting the y-labels to one-hot vector\n",
    "Y_train = np_utils.to_categorical(y_train, 10)\n",
    "Y_test = np_utils.to_categorical(y_test, 10)\n",
    "print(Y_train.shape)\n",
    "print(Y_test.shape)"
   ]
  },
  {
   "cell_type": "code",
   "execution_count": 15,
   "metadata": {},
   "outputs": [],
   "source": [
    "# Creating the model\n",
    "model = Sequential()\n",
    "model.add(Flatten())\n",
    "model.add(Dense(1024, activation='relu', input_dim=(28,28,1)))\n",
    "model.add(Dropout(0.2))\n",
    "model.add(Dense(1024, activation='relu'))\n",
    "model.add(Dense(10, activation='softmax'))"
   ]
  },
  {
   "cell_type": "code",
   "execution_count": 16,
   "metadata": {},
   "outputs": [],
   "source": [
    "model.compile(loss='categorical_crossentropy',optimizer='adam',metrics=['accuracy'])"
   ]
  },
  {
   "cell_type": "code",
   "execution_count": 17,
   "metadata": {},
   "outputs": [
    {
     "name": "stdout",
     "output_type": "stream",
     "text": [
      "WARNING:tensorflow:From C:\\Users\\Sarthak Vora\\anaconda3\\lib\\site-packages\\keras\\backend\\tensorflow_backend.py:422: The name tf.global_variables is deprecated. Please use tf.compat.v1.global_variables instead.\n",
      "\n",
      "Epoch 1/16\n",
      "60000/60000 [==============================] - 14s 238us/step - loss: 0.5396 - accuracy: 0.8080\n",
      "Epoch 2/16\n",
      "60000/60000 [==============================] - 14s 240us/step - loss: 0.3680 - accuracy: 0.8668\n",
      "Epoch 3/16\n",
      "60000/60000 [==============================] - 13s 218us/step - loss: 0.3370 - accuracy: 0.8766\n",
      "Epoch 4/16\n",
      "60000/60000 [==============================] - 14s 228us/step - loss: 0.3071 - accuracy: 0.8864\n",
      "Epoch 5/16\n",
      "60000/60000 [==============================] - 13s 214us/step - loss: 0.2969 - accuracy: 0.8906\n",
      "Epoch 6/16\n",
      "60000/60000 [==============================] - 13s 222us/step - loss: 0.2804 - accuracy: 0.8959\n",
      "Epoch 7/16\n",
      "60000/60000 [==============================] - 13s 216us/step - loss: 0.2723 - accuracy: 0.8982\n",
      "Epoch 8/16\n",
      "60000/60000 [==============================] - 13s 217us/step - loss: 0.2558 - accuracy: 0.9034\n",
      "Epoch 9/16\n",
      "60000/60000 [==============================] - ETA: 0s - loss: 0.2523 - accuracy: 0.90 - 13s 216us/step - loss: 0.2524 - accuracy: 0.9051\n",
      "Epoch 10/16\n",
      "60000/60000 [==============================] - 13s 216us/step - loss: 0.2411 - accuracy: 0.9090\n",
      "Epoch 11/16\n",
      "60000/60000 [==============================] - 13s 217us/step - loss: 0.2329 - accuracy: 0.9120\n",
      "Epoch 12/16\n",
      "60000/60000 [==============================] - 13s 220us/step - loss: 0.2260 - accuracy: 0.9143\n",
      "Epoch 13/16\n",
      "60000/60000 [==============================] - 13s 219us/step - loss: 0.2164 - accuracy: 0.9181\n",
      "Epoch 14/16\n",
      "60000/60000 [==============================] - 13s 219us/step - loss: 0.2152 - accuracy: 0.9182\n",
      "Epoch 15/16\n",
      "60000/60000 [==============================] - 13s 218us/step - loss: 0.2109 - accuracy: 0.9198\n",
      "Epoch 16/16\n",
      "60000/60000 [==============================] - 13s 219us/step - loss: 0.2106 - accuracy: 0.9201\n"
     ]
    }
   ],
   "source": [
    "Model = model.fit(x_train, Y_train, epochs=16, batch_size=512, verbose=1)"
   ]
  },
  {
   "cell_type": "code",
   "execution_count": 18,
   "metadata": {},
   "outputs": [
    {
     "data": {
      "image/png": "[encoded data removed]",
      "text/plain": [
       "<Figure size 432x288 with 1 Axes>"
      ]
     },
     "metadata": {
      "needs_background": "light"
     },
     "output_type": "display_data"
    }
   ],
   "source": [
    "plt.plot(Model.history['loss'])\n",
    "plt.xlabel('No. of epochs')\n",
    "plt.ylabel('Loss')\n",
    "plt.legend(['Train'], loc='upper right')\n",
    "plt.show()"
   ]
  },
  {
   "cell_type": "code",
   "execution_count": 19,
   "metadata": {},
   "outputs": [
    {
     "name": "stdout",
     "output_type": "stream",
     "text": [
      "Model: \"sequential_1\"\n",
      "_________________________________________________________________\n",
      "Layer (type)                 Output Shape              Param #   \n",
      "=================================================================\n",
      "flatten_1 (Flatten)          (None, 784)               0         \n",
      "_________________________________________________________________\n",
      "dense_1 (Dense)              (None, 1024)              803840    \n",
      "_________________________________________________________________\n",
      "dropout_1 (Dropout)          (None, 1024)              0         \n",
      "_________________________________________________________________\n",
      "dense_2 (Dense)              (None, 1024)              1049600   \n",
      "_________________________________________________________________\n",
      "dense_3 (Dense)              (None, 10)                10250     \n",
      "=================================================================\n",
      "Total params: 1,863,690\n",
      "Trainable params: 1,863,690\n",
      "Non-trainable params: 0\n",
      "_________________________________________________________________\n"
     ]
    }
   ],
   "source": [
    "model.summary()"
   ]
  },
  {
   "cell_type": "code",
   "execution_count": 21,
   "metadata": {},
   "outputs": [
    {
     "name": "stdout",
     "output_type": "stream",
     "text": [
      "The loss calculated on test set is: 0.332069222342968\n",
      "The accuracy calculated on test set is: 0.8851000070571899\n"
     ]
    }
   ],
   "source": [
    "(loss, accuracy) = model.evaluate(x_test,Y_test, verbose = 0)\n",
    "print(\"The loss calculated on test set is: \" + str(loss))\n",
    "print(\"The accuracy calculated on test set is: \" + str(accuracy))"
   ]
  },
  {
   "cell_type": "code",
   "execution_count": 22,
   "metadata": {},
   "outputs": [],
   "source": [
    "# Predicting the trained model on the testset\n",
    "index_pred = model.predict(np.array(x_test))"
   ]
  },
  {
   "cell_type": "code",
   "execution_count": 23,
   "metadata": {},
   "outputs": [
    {
     "name": "stdout",
     "output_type": "stream",
     "text": [
      "The below object is - Trouser\n",
      "The prediction for below object is -  Trouser\n"
     ]
    },
    {
     "data": {
      "image/png": "[encoded data removed]",
      "text/plain": [
       "<Figure size 432x288 with 1 Axes>"
      ]
     },
     "metadata": {
      "needs_background": "light"
     },
     "output_type": "display_data"
    }
   ],
   "source": [
    "test_index = 7805\n",
    "plt.imshow(x_test[test_index,:,:,0])\n",
    "print('The below object is - ' + str(classes[y_test[test_index]]))\n",
    "print('The prediction for below object is -  ' + str(classes[np.argmax(index_pred[test_index])]))"
   ]
  },
  {
   "cell_type": "code",
   "execution_count": null,
   "metadata": {},
   "outputs": [],
   "source": []
  }
 ],
 "metadata": {
  "kernelspec": {
   "display_name": "Python 3",
   "language": "python",
   "name": "python3"
  },
  "language_info": {
   "codemirror_mode": {
    "name": "ipython",
    "version": 3
   },
   "file_extension": ".py",
   "mimetype": "text/x-python",
   "name": "python",
   "nbconvert_exporter": "python",
   "pygments_lexer": "ipython3",
   "version": "3.7.6"
  }
 },
 "nbformat": 4,
 "nbformat_minor": 4
}
