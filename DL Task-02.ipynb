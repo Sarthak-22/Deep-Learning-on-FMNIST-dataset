{
 "cells": [
  {
   "cell_type": "code",
   "execution_count": 75,
   "metadata": {},
   "outputs": [],
   "source": [
    "import tensorflow as tf\n",
    "from tensorflow import keras\n",
    "from keras.models import Sequential\n",
    "from keras.layers import Dense, Dropout, Activation, Flatten\n",
    "from keras.layers import Conv2D, MaxPooling2D, BatchNormalization\n",
    "from keras.utils import np_utils\n",
    "import matplotlib.pyplot as plt\n",
    "import numpy as np"
   ]
  },
  {
   "cell_type": "code",
   "execution_count": 58,
   "metadata": {},
   "outputs": [],
   "source": [
    "fashion_mnist = keras.datasets.fashion_mnist\n",
    "(x_train, y_train) , (x_test, y_test) = fashion_mnist.load_data()"
   ]
  },
  {
   "cell_type": "code",
   "execution_count": 59,
   "metadata": {},
   "outputs": [
    {
     "name": "stdout",
     "output_type": "stream",
     "text": [
      "The number of training examples: 60000\n",
      "The number of test examples: 10000\n",
      "x_train shape: (60000, 28, 28)\n",
      "y_train shape: (60000,)\n",
      "x_test shape:(10000, 28, 28)\n",
      "y_test shape:(10000,)\n"
     ]
    }
   ],
   "source": [
    "m_train = x_train.shape[0]\n",
    "m_test = x_test.shape[0]\n",
    "x_train_dim = x_train.shape\n",
    "y_train_dim = y_train.shape\n",
    "x_test_dim = x_test.shape\n",
    "y_test_dim = y_test.shape\n",
    "print(\"The number of training examples: \" + str(m_train))\n",
    "print(\"The number of test examples: \" + str(m_test))\n",
    "print(\"x_train shape: \" + str(x_train_dim))\n",
    "print(\"y_train shape: \" + str(y_train_dim))\n",
    "print(\"x_test shape:\" + str(x_test_dim))\n",
    "print(\"y_test shape:\" + str(y_test_dim))"
   ]
  },
  {
   "cell_type": "code",
   "execution_count": 97,
   "metadata": {},
   "outputs": [],
   "source": [
    "# Adding the number of channels as dimension\n",
    "x_train = x_train.reshape(x_train.shape[0], 28, 28, 1)\n",
    "x_test = x_test.reshape(x_test.shape[0], 28, 28, 1)"
   ]
  },
  {
   "cell_type": "code",
   "execution_count": 98,
   "metadata": {},
   "outputs": [
    {
     "name": "stdout",
     "output_type": "stream",
     "text": [
      "The object is: Dress\n"
     ]
    },
    {
     "data": {
      "image/png": "[encoded data removed]",
      "text/plain": [
       "<Figure size 432x288 with 1 Axes>"
      ]
     },
     "metadata": {
      "needs_background": "light"
     },
     "output_type": "display_data"
    }
   ],
   "source": [
    "classes = {0:'T-Shirt/Top', 1:'Trouser', 2:'pullover', 3:'Dress', 4:'Coat', 5:'Sandal',6:'Shirt', 7:'Sneaker', 8:'Bag', 9:'Ankle Boot'}\n",
    "plt.figure()\n",
    "index = 57888\n",
    "plt.imshow(x_train[index,:,:,0])\n",
    "print(\"The object is: \" + str(classes[y_train[index]]))"
   ]
  },
  {
   "cell_type": "code",
   "execution_count": 61,
   "metadata": {},
   "outputs": [
    {
     "name": "stdout",
     "output_type": "stream",
     "text": [
      "(60000, 28, 28, 1)\n",
      "(10000, 28, 28, 1)\n"
     ]
    }
   ],
   "source": [
    "# Normalizing the input dataset\n",
    "x_train = x_train/255.0\n",
    "x_test = x_test/255.0\n",
    "print(x_train.shape)\n",
    "print(x_test.shape)"
   ]
  },
  {
   "cell_type": "code",
   "execution_count": 62,
   "metadata": {},
   "outputs": [
    {
     "name": "stdout",
     "output_type": "stream",
     "text": [
      "(60000, 10)\n",
      "(10000, 10)\n"
     ]
    }
   ],
   "source": [
    "# Converting the y-labels to one-hot vector\n",
    "Y_train = np_utils.to_categorical(y_train, 10)\n",
    "Y_test = np_utils.to_categorical(y_test, 10)\n",
    "print(Y_train.shape)\n",
    "print(Y_test.shape)"
   ]
  },
  {
   "cell_type": "code",
   "execution_count": 63,
   "metadata": {},
   "outputs": [],
   "source": [
    "model = Sequential()\n",
    "model.add(Conv2D(32, kernel_size=(3,3), activation='relu', input_shape=(28,28,1)))\n",
    "model.add(MaxPooling2D(pool_size=(2,2)))\n",
    "model.add(Conv2D(32, kernel_size=(3,3), activation='relu'))\n",
    "model.add(MaxPooling2D(pool_size=(2,2)))\n",
    "model.add(Dropout(0.2))\n",
    "\n",
    "model.add(Flatten())\n",
    "model.add(Dense(1024, activation='relu'))\n",
    "model.add(Dense(1024, activation='relu'))\n",
    "model.add(Dropout(0.2))\n",
    "model.add(Dense(10, activation='softmax'))"
   ]
  },
  {
   "cell_type": "code",
   "execution_count": 64,
   "metadata": {},
   "outputs": [],
   "source": [
    "model.compile(loss='categorical_crossentropy', optimizer='adam', metrics=['accuracy'])"
   ]
  },
  {
   "cell_type": "code",
   "execution_count": 65,
   "metadata": {},
   "outputs": [
    {
     "name": "stdout",
     "output_type": "stream",
     "text": [
      "Epoch 1/16\n",
      "60000/60000 [==============================] - 44s 735us/step - loss: 0.6639 - accuracy: 0.7540\n",
      "Epoch 2/16\n",
      "60000/60000 [==============================] - 44s 727us/step - loss: 0.3989 - accuracy: 0.8530\n",
      "Epoch 3/16\n",
      "60000/60000 [==============================] - 44s 726us/step - loss: 0.3405 - accuracy: 0.8743\n",
      "Epoch 4/16\n",
      "60000/60000 [==============================] - 44s 725us/step - loss: 0.3077 - accuracy: 0.8848\n",
      "Epoch 5/16\n",
      "60000/60000 [==============================] - 44s 727us/step - loss: 0.2840 - accuracy: 0.8953\n",
      "Epoch 6/16\n",
      "60000/60000 [==============================] - 44s 733us/step - loss: 0.2599 - accuracy: 0.9030\n",
      "Epoch 7/16\n",
      "60000/60000 [==============================] - 44s 731us/step - loss: 0.2500 - accuracy: 0.9065\n",
      "Epoch 8/16\n",
      "60000/60000 [==============================] - 44s 733us/step - loss: 0.2342 - accuracy: 0.9118\n",
      "Epoch 9/16\n",
      "60000/60000 [==============================] - 43s 720us/step - loss: 0.2196 - accuracy: 0.9176\n",
      "Epoch 10/16\n",
      "60000/60000 [==============================] - 43s 722us/step - loss: 0.2080 - accuracy: 0.9217\n",
      "Epoch 11/16\n",
      "60000/60000 [==============================] - 43s 723us/step - loss: 0.1976 - accuracy: 0.9249\n",
      "Epoch 12/16\n",
      "60000/60000 [==============================] - 44s 727us/step - loss: 0.1836 - accuracy: 0.9312\n",
      "Epoch 13/16\n",
      "60000/60000 [==============================] - 44s 726us/step - loss: 0.1759 - accuracy: 0.9338\n",
      "Epoch 14/16\n",
      "60000/60000 [==============================] - 44s 727us/step - loss: 0.1697 - accuracy: 0.9352\n",
      "Epoch 15/16\n",
      "60000/60000 [==============================] - 43s 724us/step - loss: 0.1581 - accuracy: 0.9395\n",
      "Epoch 16/16\n",
      "60000/60000 [==============================] - 44s 731us/step - loss: 0.1525 - accuracy: 0.9422\n"
     ]
    }
   ],
   "source": [
    "evaluate = model.fit(x_train, Y_train, batch_size=512, epochs=16, verbose=1)"
   ]
  },
  {
   "cell_type": "code",
   "execution_count": 72,
   "metadata": {},
   "outputs": [
    {
     "data": {
      "image/png": "[encoded data removed]",
      "text/plain": [
       "<Figure size 432x288 with 1 Axes>"
      ]
     },
     "metadata": {
      "needs_background": "light"
     },
     "output_type": "display_data"
    }
   ],
   "source": [
    "plt.plot(evaluate.history['loss'])\n",
    "plt.xlabel('epochs')\n",
    "plt.ylabel('loss')\n",
    "plt.legend(['Training'], loc='upper right')\n",
    "plt.show()"
   ]
  },
  {
   "cell_type": "code",
   "execution_count": 100,
   "metadata": {},
   "outputs": [
    {
     "name": "stdout",
     "output_type": "stream",
     "text": [
      "Model: \"sequential_6\"\n",
      "_________________________________________________________________\n",
      "Layer (type)                 Output Shape              Param #   \n",
      "=================================================================\n",
      "conv2d_9 (Conv2D)            (None, 26, 26, 32)        320       \n",
      "_________________________________________________________________\n",
      "max_pooling2d_9 (MaxPooling2 (None, 13, 13, 32)        0         \n",
      "_________________________________________________________________\n",
      "conv2d_10 (Conv2D)           (None, 11, 11, 32)        9248      \n",
      "_________________________________________________________________\n",
      "max_pooling2d_10 (MaxPooling (None, 5, 5, 32)          0         \n",
      "_________________________________________________________________\n",
      "dropout_8 (Dropout)          (None, 5, 5, 32)          0         \n",
      "_________________________________________________________________\n",
      "flatten_5 (Flatten)          (None, 800)               0         \n",
      "_________________________________________________________________\n",
      "dense_10 (Dense)             (None, 1024)              820224    \n",
      "_________________________________________________________________\n",
      "dense_11 (Dense)             (None, 1024)              1049600   \n",
      "_________________________________________________________________\n",
      "dropout_9 (Dropout)          (None, 1024)              0         \n",
      "_________________________________________________________________\n",
      "dense_12 (Dense)             (None, 10)                10250     \n",
      "=================================================================\n",
      "Total params: 1,889,642\n",
      "Trainable params: 1,889,642\n",
      "Non-trainable params: 0\n",
      "_________________________________________________________________\n"
     ]
    }
   ],
   "source": [
    "model.summary()"
   ]
  },
  {
   "cell_type": "code",
   "execution_count": 73,
   "metadata": {},
   "outputs": [
    {
     "name": "stdout",
     "output_type": "stream",
     "text": [
      "The loss on test set is 0.24334609733223916\n",
      "The accuracy on test set is 0.9168999791145325\n"
     ]
    }
   ],
   "source": [
    "# Evaluating the performance on testset\n",
    "(loss, accuracy) = model.evaluate(x_test,Y_test, verbose=0)\n",
    "print('The loss on test set is ' + str(loss))\n",
    "print('The accuracy on test set is ' + str(accuracy))"
   ]
  },
  {
   "cell_type": "code",
   "execution_count": 83,
   "metadata": {},
   "outputs": [],
   "source": [
    "# Predicting the trained model on the testset\n",
    "index_pred = model.predict(np.array(x_test))"
   ]
  },
  {
   "cell_type": "code",
   "execution_count": 99,
   "metadata": {},
   "outputs": [
    {
     "name": "stdout",
     "output_type": "stream",
     "text": [
      "The below object is - Bag\n",
      "The prediction for below object is -  Bag\n"
     ]
    },
    {
     "data": {
      "image/png": "[encoded data removed]",
      "text/plain": [
       "<Figure size 432x288 with 1 Axes>"
      ]
     },
     "metadata": {
      "needs_background": "light"
     },
     "output_type": "display_data"
    }
   ],
   "source": [
    "test_index = 8904\n",
    "plt.imshow(x_test[test_index,:,:,0])\n",
    "print('The below object is - ' + str(classes[y_test[test_index]]))\n",
    "print('The prediction for below object is -  ' + str(classes[np.argmax(index_pred[test_index])]))"
   ]
  }
 ],
 "metadata": {
  "kernelspec": {
   "display_name": "Python 3",
   "language": "python",
   "name": "python3"
  },
  "language_info": {
   "codemirror_mode": {
    "name": "ipython",
    "version": 3
   },
   "file_extension": ".py",
   "mimetype": "text/x-python",
   "name": "python",
   "nbconvert_exporter": "python",
   "pygments_lexer": "ipython3",
   "version": "3.7.6"
  }
 },
 "nbformat": 4,
 "nbformat_minor": 4
}
